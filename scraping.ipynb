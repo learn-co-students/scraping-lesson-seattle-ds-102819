{
 "cells": [
  {
   "cell_type": "markdown",
   "metadata": {},
   "source": [
    "**Prerequisites:** This lesson requires the BeautifulSoup library.  You should be able to get it with `conda install beautifulsoup4`"
   ]
  },
  {
   "cell_type": "markdown",
   "metadata": {},
   "source": [
    "# Scraping Task\n",
    "Imagine we need to scrape the text of all of the navigation links from this portfolio website HTML.  We want to print out a list of them, represented as strings."
   ]
  },
  {
   "cell_type": "markdown",
   "metadata": {},
   "source": [
    "First, open up the HTML file with Python.  (In this case we're opening a local file, but you would typically be using `requests` to get the file from a web server.)"
   ]
  },
  {
   "cell_type": "code",
   "execution_count": 1,
   "metadata": {},
   "outputs": [],
   "source": [
    "def get_portfolio_html_text():\n",
    "    with open(\"portfolio.html\", \"r\") as file_obj:\n",
    "        return file_obj.read()"
   ]
  },
  {
   "cell_type": "code",
   "execution_count": 2,
   "metadata": {},
   "outputs": [
    {
     "data": {
      "text/plain": [
       "'<!DOCTYPE html>\\n<html lang=\"en\">\\n\\n<head>\\n\\n  <meta charset=\"utf-8\">\\n  <meta name=\"viewport\" content=\"width=device-width, initial-scale=1, shrink-to-fit=no\">\\n  <meta name=\"description\" content=\"\">\\n  <meta name=\"author\" content=\"\">\\n\\n  <title>Resume - Start Bootstrap Theme</title>\\n\\n  <!-- Bootstrap core CSS -->\\n  <link href=\"vendor/bootstrap/css/bootstrap.min.css\" rel=\"stylesheet\">\\n\\n  <!-- Custom fonts for this template -->\\n  <link href=\"https://fonts.googleapis.com/css?family=Saira+Extra+Condensed:500,700\" rel=\"stylesheet\">\\n  <link href=\"https://fonts.googleapis.com/css?family=Muli:400,400i,800,800i\" rel=\"stylesheet\">\\n  <link href=\"vendor/fontawesome-free/css/all.min.css\" rel=\"stylesheet\">\\n\\n  <!-- Custom styles for this template -->\\n  <link href=\"css/resume.min.css\" rel=\"stylesheet\">\\n\\n</head>\\n\\n<body id=\"page-top\">\\n\\n  <nav class=\"navbar navbar-expand-lg navbar-dark bg-primary fixed-top\" id=\"sideNav\">\\n    <a class=\"navbar-brand js-scroll-trigger\" href=\"#page-top\">\\n      <span class=\"d-block d-lg-none\">Clarence Taylor</span>\\n      <span class=\"d-none d-lg-block\">\\n        <img class=\"img-fluid img-profile rounded-circle mx-auto mb-2\" src=\"img/profile.jpg\" alt=\"\">\\n      </span>\\n    </a>\\n    <button class=\"navbar-toggler\" type=\"button\" data-toggle=\"collapse\" data-target=\"#navbarSupportedContent\"\\n      aria-controls=\"navbarSupportedContent\" aria-expanded=\"false\" aria-label=\"Toggle navigation\">\\n      <span class=\"navbar-toggler-icon\"></span>\\n    </button>\\n    <div class=\"collapse navbar-collapse\" id=\"navbarSupportedContent\">\\n      <ul class=\"navbar-nav\">\\n        <li class=\"nav-item\">\\n          <a class=\"nav-link js-scroll-trigger\" href=\"#about\">About</a>\\n        </li>\\n        <li class=\"nav-item\">\\n          <a class=\"nav-link js-scroll-trigger\" href=\"#experience\">Experience</a>\\n        </li>\\n        <li class=\"nav-item\">\\n          <a class=\"nav-link js-scroll-trigger\" href=\"#education\">Education</a>\\n        </li>\\n        <li class=\"nav-item\">\\n          <a class=\"nav-link js-scroll-trigger\" href=\"#skills\">Skills</a>\\n        </li>\\n        <li class=\"nav-item\">\\n          <a class=\"nav-link js-scroll-trigger\" href=\"#interests\">Interests</a>\\n        </li>\\n        <li class=\"nav-item\">\\n          <a class=\"nav-link js-scroll-trigger\" href=\"#awards\">Awards</a>\\n        </li>\\n      </ul>\\n    </div>\\n  </nav>\\n\\n  <div class=\"container-fluid p-0\">\\n\\n    <section class=\"resume-section p-3 p-lg-5 d-flex align-items-center\" id=\"about\">\\n      <div class=\"w-100\">\\n        <h1 class=\"mb-0\">Clarence\\n          <span class=\"text-primary\">Taylor</span>\\n        </h1>\\n        <div class=\"subheading mb-5\">3542 Berry Street · Cheyenne Wells, CO 80810 · (317) 585-8468 ·\\n          <a href=\"mailto:name@email.com\">name@email.com</a>\\n        </div>\\n        <p class=\"lead mb-5\">I am experienced in leveraging agile frameworks to provide a robust synopsis for high level\\n          overviews. Iterative approaches to corporate strategy foster collaborative thinking to further the overall\\n          value proposition.</p>\\n        <div class=\"social-icons\">\\n          <a href=\"#\">\\n            <i class=\"fab fa-linkedin-in\"></i>\\n          </a>\\n          <a href=\"#\">\\n            <i class=\"fab fa-github\"></i>\\n          </a>\\n          <a href=\"#\">\\n            <i class=\"fab fa-twitter\"></i>\\n          </a>\\n          <a href=\"#\">\\n            <i class=\"fab fa-facebook-f\"></i>\\n          </a>\\n        </div>\\n      </div>\\n    </section>\\n\\n    <hr class=\"m-0\">\\n\\n    <section class=\"resume-section p-3 p-lg-5 d-flex justify-content-center\" id=\"experience\">\\n      <div class=\"w-100\">\\n        <h2 class=\"mb-5\">Experience</h2>\\n\\n        <div class=\"resume-item d-flex flex-column flex-md-row justify-content-between mb-5\">\\n          <div class=\"resume-content\">\\n            <h3 class=\"mb-0\">Senior Web Developer</h3>\\n            <div class=\"subheading mb-3\">Intelitec Solutions</div>\\n            <p>Bring to the table win-win survival strategies to ensure proactive domination. At the end of the day,\\n              going forward, a new normal that has evolved from generation X is on the runway heading towards a\\n              streamlined cloud solution. User generated content in real-time will have multiple touchpoints for\\n              offshoring.</p>\\n          </div>\\n          <div class=\"resume-date text-md-right\">\\n            <span class=\"text-primary\">March 2013 - Present</span>\\n          </div>\\n        </div>\\n\\n        <div class=\"resume-item d-flex flex-column flex-md-row justify-content-between mb-5\">\\n          <div class=\"resume-content\">\\n            <h3 class=\"mb-0\">Web Developer</h3>\\n            <div class=\"subheading mb-3\">Intelitec Solutions</div>\\n            <p>Capitalize on low hanging fruit to identify a ballpark value added activity to beta test. Override the\\n              digital divide with additional clickthroughs from DevOps. Nanotechnology immersion along the information\\n              highway will close the loop on focusing solely on the bottom line.</p>\\n          </div>\\n          <div class=\"resume-date text-md-right\">\\n            <span class=\"text-primary\">December 2011 - March 2013</span>\\n          </div>\\n        </div>\\n\\n        <div class=\"resume-item d-flex flex-column flex-md-row justify-content-between mb-5\">\\n          <div class=\"resume-content\">\\n            <h3 class=\"mb-0\">Junior Web Designer</h3>\\n            <div class=\"subheading mb-3\">Shout! Media Productions</div>\\n            <p>Podcasting operational change management inside of workflows to establish a framework. Taking seamless\\n              key performance indicators offline to maximise the long tail. Keeping your eye on the ball while\\n              performing a deep dive on the start-up mentality to derive convergence on cross-platform integration.</p>\\n          </div>\\n          <div class=\"resume-date text-md-right\">\\n            <span class=\"text-primary\">July 2010 - December 2011</span>\\n          </div>\\n        </div>\\n\\n        <div class=\"resume-item d-flex flex-column flex-md-row justify-content-between\">\\n          <div class=\"resume-content\">\\n            <h3 class=\"mb-0\">Web Design Intern</h3>\\n            <div class=\"subheading mb-3\">Shout! Media Productions</div>\\n            <p>Collaboratively administrate empowered markets via plug-and-play networks. Dynamically procrastinate B2C\\n              users after installed base benefits. Dramatically visualize customer directed convergence without\\n              revolutionary ROI.</p>\\n          </div>\\n          <div class=\"resume-date text-md-right\">\\n            <span class=\"text-primary\">September 2008 - June 2010</span>\\n          </div>\\n        </div>\\n\\n      </div>\\n\\n    </section>\\n\\n    <hr class=\"m-0\">\\n\\n    <section class=\"resume-section p-3 p-lg-5 d-flex align-items-center\" id=\"education\">\\n      <div class=\"w-100\">\\n        <h2 class=\"mb-5\">Education</h2>\\n\\n        <div class=\"resume-item d-flex flex-column flex-md-row justify-content-between mb-5\">\\n          <div class=\"resume-content\">\\n            <h3 class=\"mb-0\">University of Colorado Boulder</h3>\\n            <div class=\"subheading mb-3\">Bachelor of Science</div>\\n            <div>Computer Science - Web Development Track</div>\\n            <p>GPA: 3.23</p>\\n          </div>\\n          <div class=\"resume-date text-md-right\">\\n            <span class=\"text-primary\">August 2006 - May 2010</span>\\n          </div>\\n        </div>\\n\\n        <div class=\"resume-item d-flex flex-column flex-md-row justify-content-between\">\\n          <div class=\"resume-content\">\\n            <h3 class=\"mb-0\">James Buchanan High School</h3>\\n            <div class=\"subheading mb-3\">Technology Magnet Program</div>\\n            <p>GPA: 3.56</p>\\n          </div>\\n          <div class=\"resume-date text-md-right\">\\n            <span class=\"text-primary\">August 2002 - May 2006</span>\\n          </div>\\n        </div>\\n\\n      </div>\\n    </section>\\n\\n    <hr class=\"m-0\">\\n\\n    <section class=\"resume-section p-3 p-lg-5 d-flex align-items-center\" id=\"skills\">\\n      <div class=\"w-100\">\\n        <h2 class=\"mb-5\">Skills</h2>\\n\\n        <div class=\"subheading mb-3\">Programming Languages &amp; Tools</div>\\n        <ul class=\"list-inline dev-icons\">\\n          <li class=\"list-inline-item\">\\n            <i class=\"fab fa-html5\"></i>\\n          </li>\\n          <li class=\"list-inline-item\">\\n            <i class=\"fab fa-css3-alt\"></i>\\n          </li>\\n          <li class=\"list-inline-item\">\\n            <i class=\"fab fa-js-square\"></i>\\n          </li>\\n          <li class=\"list-inline-item\">\\n            <i class=\"fab fa-angular\"></i>\\n          </li>\\n          <li class=\"list-inline-item\">\\n            <i class=\"fab fa-react\"></i>\\n          </li>\\n          <li class=\"list-inline-item\">\\n            <i class=\"fab fa-node-js\"></i>\\n          </li>\\n          <li class=\"list-inline-item\">\\n            <i class=\"fab fa-sass\"></i>\\n          </li>\\n          <li class=\"list-inline-item\">\\n            <i class=\"fab fa-less\"></i>\\n          </li>\\n          <li class=\"list-inline-item\">\\n            <i class=\"fab fa-wordpress\"></i>\\n          </li>\\n          <li class=\"list-inline-item\">\\n            <i class=\"fab fa-gulp\"></i>\\n          </li>\\n          <li class=\"list-inline-item\">\\n            <i class=\"fab fa-grunt\"></i>\\n          </li>\\n          <li class=\"list-inline-item\">\\n            <i class=\"fab fa-npm\"></i>\\n          </li>\\n        </ul>\\n\\n        <div class=\"subheading mb-3\">Workflow</div>\\n        <ul class=\"fa-ul mb-0\">\\n          <li>\\n            <i class=\"fa-li fa fa-check\"></i>\\n            Mobile-First, Responsive Design</li>\\n          <li>\\n            <i class=\"fa-li fa fa-check\"></i>\\n            Cross Browser Testing &amp; Debugging</li>\\n          <li>\\n            <i class=\"fa-li fa fa-check\"></i>\\n            Cross Functional Teams</li>\\n          <li>\\n            <i class=\"fa-li fa fa-check\"></i>\\n            Agile Development &amp; Scrum</li>\\n        </ul>\\n      </div>\\n    </section>\\n\\n    <hr class=\"m-0\">\\n\\n    <section class=\"resume-section p-3 p-lg-5 d-flex align-items-center\" id=\"interests\">\\n      <div class=\"w-100\">\\n        <h2 class=\"mb-5\">Interests</h2>\\n        <p>Apart from being a web developer, I enjoy most of my time being outdoors. In the winter, I am an avid skier\\n          and novice ice climber. During the warmer months here in Colorado, I enjoy mountain biking, free climbing, and\\n          kayaking.</p>\\n        <p class=\"mb-0\">When forced indoors, I follow a number of sci-fi and fantasy genre movies and television shows,\\n          I am an aspiring chef, and I spend a large amount of my free time exploring the latest technology advancements\\n          in the front-end web development world.</p>\\n      </div>\\n    </section>\\n\\n    <hr class=\"m-0\">\\n\\n    <section class=\"resume-section p-3 p-lg-5 d-flex align-items-center\" id=\"awards\">\\n      <div class=\"w-100\">\\n        <h2 class=\"mb-5\">Awards &amp; Certifications</h2>\\n        <ul class=\"fa-ul mb-0\">\\n          <li>\\n            <i class=\"fa-li fa fa-trophy text-warning\"></i>\\n            Google Analytics Certified Developer</li>\\n          <li>\\n            <i class=\"fa-li fa fa-trophy text-warning\"></i>\\n            Mobile Web Specialist - Google Certification</li>\\n          <li>\\n            <i class=\"fa-li fa fa-trophy text-warning\"></i>\\n            1<sup>st</sup>\\n            Place - University of Colorado Boulder - Emerging Tech Competition 2009</li>\\n          <li>\\n            <i class=\"fa-li fa fa-trophy text-warning\"></i>\\n            1<sup>st</sup>\\n            Place - University of Colorado Boulder - Adobe Creative Jam 2008 (UI Design Category)</li>\\n          <li>\\n            <i class=\"fa-li fa fa-trophy text-warning\"></i>\\n            2<sup>nd</sup>\\n            Place - University of Colorado Boulder - Emerging Tech Competition 2008</li>\\n          <li>\\n            <i class=\"fa-li fa fa-trophy text-warning\"></i>\\n            1<sup>st</sup>\\n            Place - James Buchanan High School - Hackathon 2006</li>\\n          <li>\\n            <i class=\"fa-li fa fa-trophy text-warning\"></i>\\n            3<sup>rd</sup>\\n            Place - James Buchanan High School - Hackathon 2005</li>\\n        </ul>\\n      </div>\\n    </section>\\n\\n  </div>\\n\\n  <!-- Bootstrap core JavaScript -->\\n  <script src=\"vendor/jquery/jquery.min.js\"></script>\\n  <script src=\"vendor/bootstrap/js/bootstrap.bundle.min.js\"></script>\\n\\n  <!-- Plugin JavaScript -->\\n  <script src=\"vendor/jquery-easing/jquery.easing.min.js\"></script>\\n\\n  <!-- Custom scripts for this template -->\\n  <script src=\"js/resume.min.js\"></script>\\n\\n</body>\\n\\n</html>'"
      ]
     },
     "execution_count": 2,
     "metadata": {},
     "output_type": "execute_result"
    }
   ],
   "source": [
    "html_string = get_portfolio_html_text()\n",
    "html_string"
   ]
  },
  {
   "cell_type": "markdown",
   "metadata": {},
   "source": [
    "## If we didn't know about BeautifulSoup..."
   ]
  },
  {
   "cell_type": "markdown",
   "metadata": {},
   "source": [
    "You could just treat the HTML as a big string, and split and slice it until you find the content you want"
   ]
  },
  {
   "cell_type": "markdown",
   "metadata": {},
   "source": [
    "We notice that all of the navigation labels are immediately followed by \"`</a>`\""
   ]
  },
  {
   "cell_type": "code",
   "execution_count": 3,
   "metadata": {},
   "outputs": [],
   "source": [
    "split_string = html_string.split(\"</a>\")"
   ]
  },
  {
   "cell_type": "code",
   "execution_count": 4,
   "metadata": {},
   "outputs": [
    {
     "data": {
      "text/plain": [
       "'\\n    <button class=\"navbar-toggler\" type=\"button\" data-toggle=\"collapse\" data-target=\"#navbarSupportedContent\"\\n      aria-controls=\"navbarSupportedContent\" aria-expanded=\"false\" aria-label=\"Toggle navigation\">\\n      <span class=\"navbar-toggler-icon\"></span>\\n    </button>\\n    <div class=\"collapse navbar-collapse\" id=\"navbarSupportedContent\">\\n      <ul class=\"navbar-nav\">\\n        <li class=\"nav-item\">\\n          <a class=\"nav-link js-scroll-trigger\" href=\"#about\">About'"
      ]
     },
     "execution_count": 4,
     "metadata": {},
     "output_type": "execute_result"
    }
   ],
   "source": [
    "split_string[1]"
   ]
  },
  {
   "cell_type": "markdown",
   "metadata": {},
   "source": [
    "We experiment to find the beginning of the label.  Turns out it's consistently \">\", then the label text"
   ]
  },
  {
   "cell_type": "code",
   "execution_count": 5,
   "metadata": {},
   "outputs": [],
   "source": [
    "greater_than_index = split_string[0].rfind(\">\")"
   ]
  },
  {
   "cell_type": "code",
   "execution_count": 6,
   "metadata": {},
   "outputs": [
    {
     "data": {
      "text/plain": [
       "1187"
      ]
     },
     "execution_count": 6,
     "metadata": {},
     "output_type": "execute_result"
    }
   ],
   "source": [
    "greater_than_index"
   ]
  },
  {
   "cell_type": "code",
   "execution_count": 7,
   "metadata": {},
   "outputs": [
    {
     "data": {
      "text/plain": [
       "'>\\n    '"
      ]
     },
     "execution_count": 7,
     "metadata": {},
     "output_type": "execute_result"
    }
   ],
   "source": [
    "split_string[0][greater_than_index:]"
   ]
  },
  {
   "cell_type": "markdown",
   "metadata": {},
   "source": [
    "Hmm, this selected something that we didn't want"
   ]
  },
  {
   "cell_type": "code",
   "execution_count": 8,
   "metadata": {},
   "outputs": [
    {
     "data": {
      "text/plain": [
       "'About'"
      ]
     },
     "execution_count": 8,
     "metadata": {},
     "output_type": "execute_result"
    }
   ],
   "source": [
    "greater_than_index = split_string[1].rfind(\">\")\n",
    "split_string[1][greater_than_index+1:]"
   ]
  },
  {
   "cell_type": "markdown",
   "metadata": {},
   "source": [
    "It worked for the 1-th index though..."
   ]
  },
  {
   "cell_type": "markdown",
   "metadata": {},
   "source": [
    "Okay, here's a loop over everything so far (note: `repr` is a built-in function that shows whitespace more clearly than just `print`)"
   ]
  },
  {
   "cell_type": "code",
   "execution_count": 9,
   "metadata": {},
   "outputs": [
    {
     "name": "stdout",
     "output_type": "stream",
     "text": [
      "'\\n    '\n",
      "'About'\n",
      "'Experience'\n",
      "'Education'\n",
      "'Skills'\n",
      "'Interests'\n",
      "'Awards'\n",
      "'name@email.com'\n",
      "'\\n          '\n",
      "'\\n          '\n",
      "'\\n          '\n",
      "'\\n          '\n",
      "''\n"
     ]
    }
   ],
   "source": [
    "for segment in split_string:\n",
    "    greater_than_index = segment.rfind(\">\")\n",
    "    print(repr(segment[greater_than_index+1:]))"
   ]
  },
  {
   "cell_type": "markdown",
   "metadata": {},
   "source": [
    "Great, that gets the links we wanted, but also some extra stuff. Let's do some cleanup, remove the links that only contain whitespace"
   ]
  },
  {
   "cell_type": "code",
   "execution_count": 10,
   "metadata": {},
   "outputs": [
    {
     "name": "stdout",
     "output_type": "stream",
     "text": [
      "'About'\n",
      "'Experience'\n",
      "'Education'\n",
      "'Skills'\n",
      "'Interests'\n",
      "'Awards'\n",
      "'name@email.com'\n"
     ]
    }
   ],
   "source": [
    "for segment in split_string:\n",
    "    greater_than_index = segment.rfind(\">\")\n",
    "    content = segment[greater_than_index+1:]\n",
    "    content = content.strip()\n",
    "    if len(content) > 0:\n",
    "        print(repr(content))"
   ]
  },
  {
   "cell_type": "markdown",
   "metadata": {},
   "source": [
    "We still have this pesky email link. Maybe we get rid of it with a hack like this"
   ]
  },
  {
   "cell_type": "code",
   "execution_count": 11,
   "metadata": {},
   "outputs": [
    {
     "name": "stdout",
     "output_type": "stream",
     "text": [
      "'About'\n",
      "'Experience'\n",
      "'Education'\n",
      "'Skills'\n",
      "'Interests'\n",
      "'Awards'\n"
     ]
    }
   ],
   "source": [
    "for segment in split_string:\n",
    "    greater_than_index = segment.rfind(\">\")\n",
    "    content = segment[greater_than_index+1:]\n",
    "    content = content.strip()\n",
    "    if len(content) > 0 and \"@\" not in content:\n",
    "        print(repr(content))"
   ]
  },
  {
   "cell_type": "markdown",
   "metadata": {},
   "source": [
    "So, the whole flow from `html_string` to printing the labels was:"
   ]
  },
  {
   "cell_type": "code",
   "execution_count": 12,
   "metadata": {},
   "outputs": [
    {
     "name": "stdout",
     "output_type": "stream",
     "text": [
      "'About'\n",
      "'Experience'\n",
      "'Education'\n",
      "'Skills'\n",
      "'Interests'\n",
      "'Awards'\n"
     ]
    }
   ],
   "source": [
    "def get_links_without_bs4(html_string):\n",
    "    split_string = html_string.split(\"</a>\")\n",
    "    for segment in split_string:\n",
    "        greater_than_index = segment.rfind(\">\")\n",
    "        content = segment[greater_than_index+1:]\n",
    "        content = content.strip()\n",
    "        if len(content) > 0 and \"@\" not in content:\n",
    "            print(repr(content))\n",
    "            \n",
    "get_links_without_bs4(html_string)"
   ]
  },
  {
   "cell_type": "markdown",
   "metadata": {},
   "source": [
    "That approach was annoying, and fairly brittle.  What happens if they add another `a` tag that's not in the nav bar, but also doesn't contain an `@`?"
   ]
  },
  {
   "cell_type": "markdown",
   "metadata": {},
   "source": [
    "## The much easier way, with BeautifulSoup\n",
    "BeautifulSoup allows you to use a CSS selector to choose exactly the elements you're trying to target\n",
    "\n",
    "### CSS Selector Rules\n",
    " - Start with HTML element type (e.g. `div`, `li`, `p`)\n",
    " - If you only want elements with a particular class, add a `.` then the class name  (e.g. `div.header-content`)\n",
    " - If you only want elements with a particular id, add a `#` then the id name (e.g. `div#contact-list`)\n",
    " - You can stack more than one selector at a time.  For example, if you want to select only `p` tags that are inside of `li` tags with class `addresses`, that would look like `li.addresses p`"
   ]
  },
  {
   "cell_type": "code",
   "execution_count": 13,
   "metadata": {},
   "outputs": [],
   "source": [
    "from bs4 import BeautifulSoup"
   ]
  },
  {
   "cell_type": "markdown",
   "metadata": {},
   "source": [
    "Make a \"soup\" object out of the html string"
   ]
  },
  {
   "cell_type": "code",
   "execution_count": 14,
   "metadata": {},
   "outputs": [],
   "source": [
    "css_soup = BeautifulSoup(html_string)"
   ]
  },
  {
   "cell_type": "markdown",
   "metadata": {},
   "source": [
    "Select the list of elements that match our query. In this case, it's \"`a` tags with class `nav-link`\""
   ]
  },
  {
   "cell_type": "code",
   "execution_count": 15,
   "metadata": {},
   "outputs": [
    {
     "data": {
      "text/plain": [
       "\u001b[0;31mSignature:\u001b[0m      \u001b[0mcss_soup\u001b[0m\u001b[0;34m(\u001b[0m\u001b[0;34m*\u001b[0m\u001b[0margs\u001b[0m\u001b[0;34m,\u001b[0m \u001b[0;34m**\u001b[0m\u001b[0mkwargs\u001b[0m\u001b[0;34m)\u001b[0m\u001b[0;34m\u001b[0m\u001b[0;34m\u001b[0m\u001b[0m\n",
       "\u001b[0;31mType:\u001b[0m           BeautifulSoup\n",
       "\u001b[0;31mString form:\u001b[0m   \n",
       "<!DOCTYPE html>\n",
       "           \n",
       "           <html lang=\"en\">\n",
       "           <head>\n",
       "           <meta charset=\"utf-8\"/>\n",
       "           <meta content=\"width=device-widt <...> !-- Custom scripts for this template -->\n",
       "           <script src=\"js/resume.min.js\"></script>\n",
       "           </body>\n",
       "           </html>\n",
       "\u001b[0;31mLength:\u001b[0m         3\n",
       "\u001b[0;31mFile:\u001b[0m           ~/.conda/envs/prework-labs/lib/python3.7/site-packages/bs4/__init__.py\n",
       "\u001b[0;31mDocstring:\u001b[0m     \n",
       "This class defines the basic interface called by the tree builders.\n",
       "\n",
       "These methods will be called by the parser:\n",
       "  reset()\n",
       "  feed(markup)\n",
       "\n",
       "The tree builder may call these methods from its feed() implementation:\n",
       "  handle_starttag(name, attrs) # See note about return value\n",
       "  handle_endtag(name)\n",
       "  handle_data(data) # Appends to the current data node\n",
       "  endData(containerClass=NavigableString) # Ends the current data node\n",
       "\n",
       "No matter how complicated the underlying parser is, you should be\n",
       "able to build a tree using 'start tag' events, 'end tag' events,\n",
       "'data' events, and \"done with data\" events.\n",
       "\n",
       "If you encounter an empty-element tag (aka a self-closing tag,\n",
       "like HTML's <br> tag), call handle_starttag and then\n",
       "handle_endtag.\n",
       "\u001b[0;31mInit docstring:\u001b[0m\n",
       "Constructor.\n",
       "\n",
       ":param markup: A string or a file-like object representing\n",
       "markup to be parsed.\n",
       "\n",
       ":param features: Desirable features of the parser to be used. This\n",
       "may be the name of a specific parser (\"lxml\", \"lxml-xml\",\n",
       "\"html.parser\", or \"html5lib\") or it may be the type of markup\n",
       "to be used (\"html\", \"html5\", \"xml\"). It's recommended that you\n",
       "name a specific parser, so that Beautiful Soup gives you the\n",
       "same results across platforms and virtual environments.\n",
       "\n",
       ":param builder: A TreeBuilder subclass to instantiate (or\n",
       "instance to use) instead of looking one up based on\n",
       "`features`. You only need to use this if you've implemented a\n",
       "custom TreeBuilder.\n",
       "\n",
       ":param parse_only: A SoupStrainer. Only parts of the document\n",
       "matching the SoupStrainer will be considered. This is useful\n",
       "when parsing part of a document that would otherwise be too\n",
       "large to fit into memory.\n",
       "\n",
       ":param from_encoding: A string indicating the encoding of the\n",
       "document to be parsed. Pass this in if Beautiful Soup is\n",
       "guessing wrongly about the document's encoding.\n",
       "\n",
       ":param exclude_encodings: A list of strings indicating\n",
       "encodings known to be wrong. Pass this in if you don't know\n",
       "the document's encoding but you know Beautiful Soup's guess is\n",
       "wrong.\n",
       "\n",
       ":param kwargs: For backwards compatibility purposes, the\n",
       "constructor accepts certain keyword arguments used in\n",
       "Beautiful Soup 3. None of these arguments do anything in\n",
       "Beautiful Soup 4; they will result in a warning and then be ignored.\n",
       "\n",
       "Apart from this, any keyword arguments passed into the BeautifulSoup\n",
       "constructor are propagated to the TreeBuilder constructor. This\n",
       "makes it possible to configure a TreeBuilder beyond saying\n",
       "which one to use.\n",
       "\u001b[0;31mCall docstring:\u001b[0m\n",
       "Calling a tag like a function is the same as calling its\n",
       "find_all() method. Eg. tag('a') returns a list of all the A tags\n",
       "found within this tag.\n"
      ]
     },
     "metadata": {},
     "output_type": "display_data"
    }
   ],
   "source": [
    "css_soup?"
   ]
  },
  {
   "cell_type": "code",
   "execution_count": 16,
   "metadata": {},
   "outputs": [],
   "source": [
    "nav_links = css_soup.select(\"a.nav-link\")"
   ]
  },
  {
   "cell_type": "code",
   "execution_count": 17,
   "metadata": {},
   "outputs": [
    {
     "data": {
      "text/plain": [
       "<a class=\"nav-link js-scroll-trigger\" href=\"#about\">About</a>"
      ]
     },
     "execution_count": 17,
     "metadata": {},
     "output_type": "execute_result"
    }
   ],
   "source": [
    "nav_list_items = css_soup.select(\"li.nav-item a\")\n",
    "nav_list_items[0]"
   ]
  },
  {
   "cell_type": "code",
   "execution_count": 18,
   "metadata": {},
   "outputs": [
    {
     "data": {
      "text/plain": [
       "[<div class=\"collapse navbar-collapse\" id=\"navbarSupportedContent\">\n",
       " <ul class=\"navbar-nav\">\n",
       " <li class=\"nav-item\">\n",
       " <a class=\"nav-link js-scroll-trigger\" href=\"#about\">About</a>\n",
       " </li>\n",
       " <li class=\"nav-item\">\n",
       " <a class=\"nav-link js-scroll-trigger\" href=\"#experience\">Experience</a>\n",
       " </li>\n",
       " <li class=\"nav-item\">\n",
       " <a class=\"nav-link js-scroll-trigger\" href=\"#education\">Education</a>\n",
       " </li>\n",
       " <li class=\"nav-item\">\n",
       " <a class=\"nav-link js-scroll-trigger\" href=\"#skills\">Skills</a>\n",
       " </li>\n",
       " <li class=\"nav-item\">\n",
       " <a class=\"nav-link js-scroll-trigger\" href=\"#interests\">Interests</a>\n",
       " </li>\n",
       " <li class=\"nav-item\">\n",
       " <a class=\"nav-link js-scroll-trigger\" href=\"#awards\">Awards</a>\n",
       " </li>\n",
       " </ul>\n",
       " </div>]"
      ]
     },
     "execution_count": 18,
     "metadata": {},
     "output_type": "execute_result"
    }
   ],
   "source": [
    "navbar = css_soup.select(\"div.navbar-collapse\")\n",
    "navbar"
   ]
  },
  {
   "cell_type": "markdown",
   "metadata": {},
   "source": [
    "Exploring what we got back"
   ]
  },
  {
   "cell_type": "code",
   "execution_count": 19,
   "metadata": {},
   "outputs": [
    {
     "data": {
      "text/plain": [
       "\u001b[0;31mSignature:\u001b[0m      \u001b[0mfirst_link\u001b[0m\u001b[0;34m(\u001b[0m\u001b[0;34m*\u001b[0m\u001b[0margs\u001b[0m\u001b[0;34m,\u001b[0m \u001b[0;34m**\u001b[0m\u001b[0mkwargs\u001b[0m\u001b[0;34m)\u001b[0m\u001b[0;34m\u001b[0m\u001b[0;34m\u001b[0m\u001b[0m\n",
       "\u001b[0;31mType:\u001b[0m           Tag\n",
       "\u001b[0;31mString form:\u001b[0m    <a class=\"nav-link js-scroll-trigger\" href=\"#about\">About</a>\n",
       "\u001b[0;31mLength:\u001b[0m         1\n",
       "\u001b[0;31mFile:\u001b[0m           ~/.conda/envs/prework-labs/lib/python3.7/site-packages/bs4/element.py\n",
       "\u001b[0;31mDocstring:\u001b[0m      Represents a found HTML tag with its attributes and contents.\n",
       "\u001b[0;31mInit docstring:\u001b[0m Basic constructor.\n",
       "\u001b[0;31mCall docstring:\u001b[0m\n",
       "Calling a tag like a function is the same as calling its\n",
       "find_all() method. Eg. tag('a') returns a list of all the A tags\n",
       "found within this tag.\n"
      ]
     },
     "metadata": {},
     "output_type": "display_data"
    }
   ],
   "source": [
    "first_link = nav_links[0]\n",
    "first_link?"
   ]
  },
  {
   "cell_type": "code",
   "execution_count": 20,
   "metadata": {},
   "outputs": [
    {
     "data": {
      "text/plain": [
       "['About']"
      ]
     },
     "execution_count": 20,
     "metadata": {},
     "output_type": "execute_result"
    }
   ],
   "source": [
    "first_link.contents"
   ]
  },
  {
   "cell_type": "code",
   "execution_count": 21,
   "metadata": {},
   "outputs": [
    {
     "data": {
      "text/plain": [
       "'About'"
      ]
     },
     "execution_count": 21,
     "metadata": {},
     "output_type": "execute_result"
    }
   ],
   "source": [
    "first_link.text"
   ]
  },
  {
   "cell_type": "markdown",
   "metadata": {},
   "source": [
    "So, let's loop over everything:"
   ]
  },
  {
   "cell_type": "code",
   "execution_count": 22,
   "metadata": {},
   "outputs": [
    {
     "name": "stdout",
     "output_type": "stream",
     "text": [
      "About\n",
      "Experience\n",
      "Education\n",
      "Skills\n",
      "Interests\n",
      "Awards\n"
     ]
    }
   ],
   "source": [
    "for link in nav_links:\n",
    "    print(link.text)"
   ]
  },
  {
   "cell_type": "markdown",
   "metadata": {},
   "source": [
    "So, the whole flow from `html_string` to printing the labels was:"
   ]
  },
  {
   "cell_type": "code",
   "execution_count": 23,
   "metadata": {},
   "outputs": [
    {
     "name": "stdout",
     "output_type": "stream",
     "text": [
      "About\n",
      "Experience\n",
      "Education\n",
      "Skills\n",
      "Interests\n",
      "Awards\n"
     ]
    }
   ],
   "source": [
    "def get_links_with_bs4(html_string):\n",
    "    css_soup = BeautifulSoup(html_string)\n",
    "    nav_links = css_soup.select(\"a.nav-link\")\n",
    "    for link in nav_links:\n",
    "        print(link.text)\n",
    "        \n",
    "get_links_with_bs4(html_string)"
   ]
  },
  {
   "cell_type": "markdown",
   "metadata": {},
   "source": [
    "...and that's it!  Much faster and cleaner!  It avoided selecting any of the other `a` tags from the get-go, and it will continue to work if the site owner decides to put an `@` in the nav links for some reason"
   ]
  },
  {
   "cell_type": "markdown",
   "metadata": {},
   "source": [
    "## Appendix (in-class experiments)\n",
    "\n",
    "**Question:** what if we wanted to get only the experience titles, but not the education titles?  Both are `<h3 class=\"mb-0\">`"
   ]
  },
  {
   "cell_type": "code",
   "execution_count": 24,
   "metadata": {},
   "outputs": [
    {
     "data": {
      "text/plain": [
       "['Senior Web Developer',\n",
       " 'Web Developer',\n",
       " 'Junior Web Designer',\n",
       " 'Web Design Intern',\n",
       " 'University of Colorado Boulder',\n",
       " 'James Buchanan High School']"
      ]
     },
     "execution_count": 24,
     "metadata": {},
     "output_type": "execute_result"
    }
   ],
   "source": [
    "h3s = css_soup.select(\"h3.mb-0\")\n",
    "[element.text for element in h3s]"
   ]
  },
  {
   "cell_type": "markdown",
   "metadata": {},
   "source": [
    "**Answer:** keep going \"up the tree\" to find what is different about the experience compared to the education titles.  It turns out that the experience titles are nested (4 levels down) inside of a `section` tag with the ID `experience`, whereas the education titles are nested inside of a `section` tag with the ID `education`.  So if we just wanted to select the experience ones, that would look like:"
   ]
  },
  {
   "cell_type": "code",
   "execution_count": 25,
   "metadata": {},
   "outputs": [
    {
     "data": {
      "text/plain": [
       "['Senior Web Developer',\n",
       " 'Web Developer',\n",
       " 'Junior Web Designer',\n",
       " 'Web Design Intern']"
      ]
     },
     "execution_count": 25,
     "metadata": {},
     "output_type": "execute_result"
    }
   ],
   "source": [
    "experience_section_h3s = css_soup.select(\"section#experience h3\")\n",
    "[element.text for element in experience_section_h3s]"
   ]
  },
  {
   "cell_type": "markdown",
   "metadata": {},
   "source": [
    "**Question:** what if you wanted to get all of the text inside of a `div`, even if the `div` has several tags inside of it that contain all the text?"
   ]
  },
  {
   "cell_type": "markdown",
   "metadata": {},
   "source": [
    "**Answer:** you would want to use `.getText()` rather than `.text`"
   ]
  },
  {
   "cell_type": "code",
   "execution_count": 26,
   "metadata": {},
   "outputs": [
    {
     "data": {
      "text/plain": [
       "['\\nSenior Web Developer\\nIntelitec Solutions\\nBring to the table win-win survival strategies to ensure proactive domination. At the end of the day,\\n              going forward, a new normal that has evolved from generation X is on the runway heading towards a\\n              streamlined cloud solution. User generated content in real-time will have multiple touchpoints for\\n              offshoring.\\n',\n",
       " '\\nWeb Developer\\nIntelitec Solutions\\nCapitalize on low hanging fruit to identify a ballpark value added activity to beta test. Override the\\n              digital divide with additional clickthroughs from DevOps. Nanotechnology immersion along the information\\n              highway will close the loop on focusing solely on the bottom line.\\n',\n",
       " '\\nJunior Web Designer\\nShout! Media Productions\\nPodcasting operational change management inside of workflows to establish a framework. Taking seamless\\n              key performance indicators offline to maximise the long tail. Keeping your eye on the ball while\\n              performing a deep dive on the start-up mentality to derive convergence on cross-platform integration.\\n',\n",
       " '\\nWeb Design Intern\\nShout! Media Productions\\nCollaboratively administrate empowered markets via plug-and-play networks. Dynamically procrastinate B2C\\n              users after installed base benefits. Dramatically visualize customer directed convergence without\\n              revolutionary ROI.\\n']"
      ]
     },
     "execution_count": 26,
     "metadata": {},
     "output_type": "execute_result"
    }
   ],
   "source": [
    "experience_contents = css_soup.select(\"section#experience div.resume-content\")\n",
    "experiences = [element.getText() for element in experience_contents]\n",
    "experiences"
   ]
  },
  {
   "cell_type": "markdown",
   "metadata": {},
   "source": [
    "Can we clean that up a little bit, remove the newlines?"
   ]
  },
  {
   "cell_type": "code",
   "execution_count": 27,
   "metadata": {},
   "outputs": [
    {
     "data": {
      "text/plain": [
       "['Senior Web Developer Intelitec Solutions Bring to the table win-win survival strategies to ensure proactive domination. At the end of the day, going forward, a new normal that has evolved from generation X is on the runway heading towards a streamlined cloud solution. User generated content in real-time will have multiple touchpoints for offshoring.',\n",
       " 'Web Developer Intelitec Solutions Capitalize on low hanging fruit to identify a ballpark value added activity to beta test. Override the digital divide with additional clickthroughs from DevOps. Nanotechnology immersion along the information highway will close the loop on focusing solely on the bottom line.',\n",
       " 'Junior Web Designer Shout! Media Productions Podcasting operational change management inside of workflows to establish a framework. Taking seamless key performance indicators offline to maximise the long tail. Keeping your eye on the ball while performing a deep dive on the start-up mentality to derive convergence on cross-platform integration.',\n",
       " 'Web Design Intern Shout! Media Productions Collaboratively administrate empowered markets via plug-and-play networks. Dynamically procrastinate B2C users after installed base benefits. Dramatically visualize customer directed convergence without revolutionary ROI.']"
      ]
     },
     "execution_count": 27,
     "metadata": {},
     "output_type": "execute_result"
    }
   ],
   "source": [
    "[\" \".join([exp.strip() for exp in experience.split(\"\\n\") if len(exp.strip()) > 0]) for experience in experiences]"
   ]
  },
  {
   "cell_type": "markdown",
   "metadata": {},
   "source": [
    "Can we get all of the text from the whole page at once?"
   ]
  },
  {
   "cell_type": "code",
   "execution_count": 28,
   "metadata": {},
   "outputs": [
    {
     "data": {
      "text/plain": [
       "'\\n\\n\\n\\n\\n\\n\\nResume - Start Bootstrap Theme\\n\\n\\n\\n\\n\\n\\n\\n\\n\\n\\n\\n\\nClarence Taylor\\n\\n\\n\\n\\n\\n\\n\\n\\n\\n\\nAbout\\n\\n\\nExperience\\n\\n\\nEducation\\n\\n\\nSkills\\n\\n\\nInterests\\n\\n\\nAwards\\n\\n\\n\\n\\n\\n\\n\\nClarence\\n          Taylor\\n\\n3542 Berry Street · Cheyenne Wells, CO 80810 · (317) 585-8468 ·\\n          name@email.com\\n\\nI am experienced in leveraging agile frameworks to provide a robust synopsis for high level\\n          overviews. Iterative approaches to corporate strategy foster collaborative thinking to further the overall\\n          value proposition.\\n\\n\\n\\n\\n\\n\\n\\n\\n\\n\\n\\n\\n\\n\\n\\n\\n\\n\\n\\nExperience\\n\\n\\nSenior Web Developer\\nIntelitec Solutions\\nBring to the table win-win survival strategies to ensure proactive domination. At the end of the day,\\n              going forward, a new normal that has evolved from generation X is on the runway heading towards a\\n              streamlined cloud solution. User generated content in real-time will have multiple touchpoints for\\n              offshoring.\\n\\n\\nMarch 2013 - Present\\n\\n\\n\\n\\nWeb Developer\\nIntelitec Solutions\\nCapitalize on low hanging fruit to identify a ballpark value added activity to beta test. Override the\\n              digital divide with additional clickthroughs from DevOps. Nanotechnology immersion along the information\\n              highway will close the loop on focusing solely on the bottom line.\\n\\n\\nDecember 2011 - March 2013\\n\\n\\n\\n\\nJunior Web Designer\\nShout! Media Productions\\nPodcasting operational change management inside of workflows to establish a framework. Taking seamless\\n              key performance indicators offline to maximise the long tail. Keeping your eye on the ball while\\n              performing a deep dive on the start-up mentality to derive convergence on cross-platform integration.\\n\\n\\nJuly 2010 - December 2011\\n\\n\\n\\n\\nWeb Design Intern\\nShout! Media Productions\\nCollaboratively administrate empowered markets via plug-and-play networks. Dynamically procrastinate B2C\\n              users after installed base benefits. Dramatically visualize customer directed convergence without\\n              revolutionary ROI.\\n\\n\\nSeptember 2008 - June 2010\\n\\n\\n\\n\\n\\n\\n\\nEducation\\n\\n\\nUniversity of Colorado Boulder\\nBachelor of Science\\nComputer Science - Web Development Track\\nGPA: 3.23\\n\\n\\nAugust 2006 - May 2010\\n\\n\\n\\n\\nJames Buchanan High School\\nTechnology Magnet Program\\nGPA: 3.56\\n\\n\\nAugust 2002 - May 2006\\n\\n\\n\\n\\n\\n\\n\\nSkills\\nProgramming Languages & Tools\\n\\n\\n\\n\\n\\n\\n\\n\\n\\n\\n\\n\\n\\n\\n\\n\\n\\n\\n\\n\\n\\n\\n\\n\\n\\n\\n\\n\\n\\n\\n\\n\\n\\n\\n\\n\\n\\n\\nWorkflow\\n\\n\\n\\n            Mobile-First, Responsive Design\\n\\n\\n            Cross Browser Testing & Debugging\\n\\n\\n            Cross Functional Teams\\n\\n\\n            Agile Development & Scrum\\n\\n\\n\\n\\n\\n\\nInterests\\nApart from being a web developer, I enjoy most of my time being outdoors. In the winter, I am an avid skier\\n          and novice ice climber. During the warmer months here in Colorado, I enjoy mountain biking, free climbing, and\\n          kayaking.\\nWhen forced indoors, I follow a number of sci-fi and fantasy genre movies and television shows,\\n          I am an aspiring chef, and I spend a large amount of my free time exploring the latest technology advancements\\n          in the front-end web development world.\\n\\n\\n\\n\\n\\nAwards & Certifications\\n\\n\\n\\n            Google Analytics Certified Developer\\n\\n\\n            Mobile Web Specialist - Google Certification\\n\\n\\n            1st\\n            Place - University of Colorado Boulder - Emerging Tech Competition 2009\\n\\n\\n            1st\\n            Place - University of Colorado Boulder - Adobe Creative Jam 2008 (UI Design Category)\\n\\n\\n            2nd\\n            Place - University of Colorado Boulder - Emerging Tech Competition 2008\\n\\n\\n            1st\\n            Place - James Buchanan High School - Hackathon 2006\\n\\n\\n            3rd\\n            Place - James Buchanan High School - Hackathon 2005\\n\\n\\n\\n\\n\\n\\n\\n\\n\\n\\n\\n\\n'"
      ]
     },
     "execution_count": 28,
     "metadata": {},
     "output_type": "execute_result"
    }
   ],
   "source": [
    "css_soup.getText()"
   ]
  },
  {
   "cell_type": "code",
   "execution_count": 29,
   "metadata": {},
   "outputs": [
    {
     "data": {
      "text/plain": [
       "'Resume - Start Bootstrap Theme Clarence Taylor About Experience Education Skills Interests Awards Clarence Taylor 3542 Berry Street · Cheyenne Wells, CO 80810 · (317) 585-8468 · name@email.com I am experienced in leveraging agile frameworks to provide a robust synopsis for high level overviews. Iterative approaches to corporate strategy foster collaborative thinking to further the overall value proposition. Experience Senior Web Developer Intelitec Solutions Bring to the table win-win survival strategies to ensure proactive domination. At the end of the day, going forward, a new normal that has evolved from generation X is on the runway heading towards a streamlined cloud solution. User generated content in real-time will have multiple touchpoints for offshoring. March 2013 - Present Web Developer Intelitec Solutions Capitalize on low hanging fruit to identify a ballpark value added activity to beta test. Override the digital divide with additional clickthroughs from DevOps. Nanotechnology immersion along the information highway will close the loop on focusing solely on the bottom line. December 2011 - March 2013 Junior Web Designer Shout! Media Productions Podcasting operational change management inside of workflows to establish a framework. Taking seamless key performance indicators offline to maximise the long tail. Keeping your eye on the ball while performing a deep dive on the start-up mentality to derive convergence on cross-platform integration. July 2010 - December 2011 Web Design Intern Shout! Media Productions Collaboratively administrate empowered markets via plug-and-play networks. Dynamically procrastinate B2C users after installed base benefits. Dramatically visualize customer directed convergence without revolutionary ROI. September 2008 - June 2010 Education University of Colorado Boulder Bachelor of Science Computer Science - Web Development Track GPA: 3.23 August 2006 - May 2010 James Buchanan High School Technology Magnet Program GPA: 3.56 August 2002 - May 2006 Skills Programming Languages & Tools Workflow Mobile-First, Responsive Design Cross Browser Testing & Debugging Cross Functional Teams Agile Development & Scrum Interests Apart from being a web developer, I enjoy most of my time being outdoors. In the winter, I am an avid skier and novice ice climber. During the warmer months here in Colorado, I enjoy mountain biking, free climbing, and kayaking. When forced indoors, I follow a number of sci-fi and fantasy genre movies and television shows, I am an aspiring chef, and I spend a large amount of my free time exploring the latest technology advancements in the front-end web development world. Awards & Certifications Google Analytics Certified Developer Mobile Web Specialist - Google Certification 1st Place - University of Colorado Boulder - Emerging Tech Competition 2009 1st Place - University of Colorado Boulder - Adobe Creative Jam 2008 (UI Design Category) 2nd Place - University of Colorado Boulder - Emerging Tech Competition 2008 1st Place - James Buchanan High School - Hackathon 2006 3rd Place - James Buchanan High School - Hackathon 2005'"
      ]
     },
     "execution_count": 29,
     "metadata": {},
     "output_type": "execute_result"
    }
   ],
   "source": [
    "\" \".join([segment.strip() for segment in css_soup.getText().split() if len(segment.strip()) > 0])"
   ]
  },
  {
   "cell_type": "code",
   "execution_count": null,
   "metadata": {},
   "outputs": [],
   "source": []
  }
 ],
 "metadata": {
  "kernelspec": {
   "display_name": "Python 3",
   "language": "python",
   "name": "python3"
  },
  "language_info": {
   "codemirror_mode": {
    "name": "ipython",
    "version": 3
   },
   "file_extension": ".py",
   "mimetype": "text/x-python",
   "name": "python",
   "nbconvert_exporter": "python",
   "pygments_lexer": "ipython3",
   "version": "3.7.3"
  }
 },
 "nbformat": 4,
 "nbformat_minor": 4
}
