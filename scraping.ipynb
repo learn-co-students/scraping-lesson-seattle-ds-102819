{
 "cells": [
  {
   "cell_type": "markdown",
   "metadata": {},
   "source": [
    "**Prerequisites:** This lesson requires the BeautifulSoup library.  You should be able to get it with `conda install beautifulsoup4`"
   ]
  },
  {
   "cell_type": "markdown",
   "metadata": {},
   "source": [
    "# Scraping Task\n",
    "Imagine we need to scrape the text of all of the navigation links from this portfolio website HTML.  We want to print out a list of them, represented as strings."
   ]
  },
  {
   "cell_type": "markdown",
   "metadata": {},
   "source": [
    "First, open up the HTML file with Python.  (In this case we're opening a local file, but you would typically be using `requests` to get the file from a web server.)"
   ]
  },
  {
   "cell_type": "code",
   "execution_count": null,
   "metadata": {},
   "outputs": [],
   "source": [
    "def get_portfolio_html_text():\n",
    "    with open(\"portfolio.html\", \"r\") as file_obj:\n",
    "        return file_obj.read()"
   ]
  },
  {
   "cell_type": "code",
   "execution_count": null,
   "metadata": {},
   "outputs": [],
   "source": [
    "html_string = get_portfolio_html_text()\n",
    "html_string"
   ]
  },
  {
   "cell_type": "markdown",
   "metadata": {},
   "source": [
    "## If we didn't know about BeautifulSoup..."
   ]
  },
  {
   "cell_type": "markdown",
   "metadata": {},
   "source": [
    "You could just treat the HTML as a big string, and split and slice it until you find the content you want"
   ]
  },
  {
   "cell_type": "markdown",
   "metadata": {},
   "source": [
    "We notice that all of the navigation labels are immediately followed by \"</a>\""
   ]
  },
  {
   "cell_type": "code",
   "execution_count": null,
   "metadata": {},
   "outputs": [],
   "source": [
    "split_string = html_string.split(\"</a>\")"
   ]
  },
  {
   "cell_type": "markdown",
   "metadata": {},
   "source": [
    "We experiment to find the beginning of the label.  Turns out it's consistently \">\", then the label text"
   ]
  },
  {
   "cell_type": "code",
   "execution_count": null,
   "metadata": {},
   "outputs": [],
   "source": [
    "greater_than_index = split_string[0].rfind(\">\")"
   ]
  },
  {
   "cell_type": "code",
   "execution_count": null,
   "metadata": {},
   "outputs": [],
   "source": [
    "greater_than_index"
   ]
  },
  {
   "cell_type": "code",
   "execution_count": null,
   "metadata": {},
   "outputs": [],
   "source": [
    "split_string[0][greater_than_index:]"
   ]
  },
  {
   "cell_type": "markdown",
   "metadata": {},
   "source": [
    "Hmm, this selected something that we didn't want"
   ]
  },
  {
   "cell_type": "code",
   "execution_count": null,
   "metadata": {},
   "outputs": [],
   "source": [
    "greater_than_index = split_string[1].rfind(\">\")\n",
    "split_string[1][greater_than_index+1:]"
   ]
  },
  {
   "cell_type": "markdown",
   "metadata": {},
   "source": [
    "It worked for the 1-th index though..."
   ]
  },
  {
   "cell_type": "markdown",
   "metadata": {},
   "source": [
    "Okay, here's a loop over everything so far (note: `repr` is a built-in function that shows whitespace more clearly than just `print`)"
   ]
  },
  {
   "cell_type": "code",
   "execution_count": null,
   "metadata": {},
   "outputs": [],
   "source": [
    "for segment in split_string:\n",
    "    greater_than_index = segment.rfind(\">\")\n",
    "    print(repr(segment[greater_than_index+1:]))"
   ]
  },
  {
   "cell_type": "markdown",
   "metadata": {},
   "source": [
    "Great, that gets the links we wanted, but also some extra stuff. Let's do some cleanup, remove the links that only contain whitespace"
   ]
  },
  {
   "cell_type": "code",
   "execution_count": null,
   "metadata": {},
   "outputs": [],
   "source": [
    "for segment in split_string:\n",
    "    greater_than_index = segment.rfind(\">\")\n",
    "    content = segment[greater_than_index+1:]\n",
    "    content = content.strip()\n",
    "    if len(content) > 0:\n",
    "        print(repr(content))"
   ]
  },
  {
   "cell_type": "markdown",
   "metadata": {},
   "source": [
    "We still have this pesky email link. Maybe we get rid of it with a hack like this"
   ]
  },
  {
   "cell_type": "code",
   "execution_count": null,
   "metadata": {},
   "outputs": [],
   "source": [
    "for segment in split_string:\n",
    "    greater_than_index = segment.rfind(\">\")\n",
    "    content = segment[greater_than_index+1:]\n",
    "    content = content.strip()\n",
    "    if len(content) > 0 and \"@\" not in content:\n",
    "        print(repr(content))"
   ]
  },
  {
   "cell_type": "markdown",
   "metadata": {},
   "source": [
    "So, the whole flow from `html_string` to printing the labels was:"
   ]
  },
  {
   "cell_type": "code",
   "execution_count": null,
   "metadata": {},
   "outputs": [],
   "source": [
    "def get_links_without_bs4(html_string):\n",
    "    split_string = html_string.split(\"</a>\")\n",
    "    for segment in split_string:\n",
    "        greater_than_index = segment.rfind(\">\")\n",
    "        content = segment[greater_than_index+1:]\n",
    "        content = content.strip()\n",
    "        if len(content) > 0 and \"@\" not in content:\n",
    "            print(repr(content))\n",
    "            \n",
    "get_links_without_bs4(html_string)"
   ]
  },
  {
   "cell_type": "markdown",
   "metadata": {},
   "source": [
    "That approach was annoying, and fairly brittle.  What happens if they add another `a` tag that's not in the nav bar, but also doesn't contain an `@`?"
   ]
  },
  {
   "cell_type": "markdown",
   "metadata": {},
   "source": [
    "## The much easier way, with BeautifulSoup\n",
    "BeautifulSoup allows you to use a CSS selector to choose exactly the elements you're trying to target\n",
    "\n",
    "### CSS Selector Rules\n",
    " - Start with HTML element type (e.g. `div`, `li`, `p`)\n",
    " - If you only want elements with a particular class, add a `.` then the class name  (e.g. `div.header-content`)\n",
    " - If you only want elements with a particular id, add a `#` then the id name (e.g. `div#contact-list`)\n",
    " - You can stack more than one selector at a time.  For example, if you want to select only `p` tags that are inside of `li` tags with class `addresses`, that would look like `li.addresses p`"
   ]
  },
  {
   "cell_type": "code",
   "execution_count": null,
   "metadata": {},
   "outputs": [],
   "source": [
    "from bs4 import BeautifulSoup"
   ]
  },
  {
   "cell_type": "markdown",
   "metadata": {},
   "source": [
    "Make a \"soup\" object out of the html string"
   ]
  },
  {
   "cell_type": "code",
   "execution_count": null,
   "metadata": {},
   "outputs": [],
   "source": [
    "css_soup = BeautifulSoup(html_string)"
   ]
  },
  {
   "cell_type": "markdown",
   "metadata": {},
   "source": [
    "Select the list of elements that match our query. In this case, it's \"`a` tags with class `nav-link`\""
   ]
  },
  {
   "cell_type": "code",
   "execution_count": null,
   "metadata": {},
   "outputs": [],
   "source": [
    "nav_links = css_soup.select(\"a.nav-link\")"
   ]
  },
  {
   "cell_type": "markdown",
   "metadata": {},
   "source": [
    "Exploring what we got back"
   ]
  },
  {
   "cell_type": "code",
   "execution_count": null,
   "metadata": {},
   "outputs": [],
   "source": [
    "first_link = nav_links[0]\n",
    "first_link?"
   ]
  },
  {
   "cell_type": "code",
   "execution_count": null,
   "metadata": {},
   "outputs": [],
   "source": [
    "first_link.contents"
   ]
  },
  {
   "cell_type": "code",
   "execution_count": null,
   "metadata": {},
   "outputs": [],
   "source": [
    "first_link.text"
   ]
  },
  {
   "cell_type": "markdown",
   "metadata": {},
   "source": [
    "So, let's loop over everything:"
   ]
  },
  {
   "cell_type": "code",
   "execution_count": null,
   "metadata": {},
   "outputs": [],
   "source": [
    "for link in nav_links:\n",
    "    print(link.text)"
   ]
  },
  {
   "cell_type": "markdown",
   "metadata": {},
   "source": [
    "So, the whole flow from `html_string` to printing the labels was:"
   ]
  },
  {
   "cell_type": "code",
   "execution_count": null,
   "metadata": {},
   "outputs": [],
   "source": [
    "def get_links_with_bs4(html_string):\n",
    "    css_soup = BeautifulSoup(html_string)\n",
    "    nav_links = css_soup.select(\"a.nav-link\")\n",
    "    for link in nav_links:\n",
    "        print(link.text)\n",
    "        \n",
    "get_links_with_bs4(html_string)"
   ]
  },
  {
   "cell_type": "markdown",
   "metadata": {},
   "source": [
    "...and that's it!  Much faster and cleaner!  It avoided selecting any of the other `a` tags from the get-go, and it will continue to work if the site owner decides to put an `@` in the nav links for some reason"
   ]
  },
  {
   "cell_type": "code",
   "execution_count": null,
   "metadata": {},
   "outputs": [],
   "source": []
  }
 ],
 "metadata": {
  "kernelspec": {
   "display_name": "Python 3",
   "language": "python",
   "name": "python3"
  },
  "language_info": {
   "codemirror_mode": {
    "name": "ipython",
    "version": 3
   },
   "file_extension": ".py",
   "mimetype": "text/x-python",
   "name": "python",
   "nbconvert_exporter": "python",
   "pygments_lexer": "ipython3",
   "version": "3.7.3"
  }
 },
 "nbformat": 4,
 "nbformat_minor": 4
}
